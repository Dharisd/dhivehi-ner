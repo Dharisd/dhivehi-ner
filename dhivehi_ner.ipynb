{
 "cells": [
  {
   "cell_type": "markdown",
   "metadata": {},
   "source": [
    "# predict results from NER model\n"
   ]
  },
  {
   "cell_type": "code",
   "execution_count": 1,
   "metadata": {},
   "outputs": [],
   "source": [
    "from pathlib import Path\n",
    "import spacy\n",
    "from spacy import displacy"
   ]
  },
  {
   "cell_type": "code",
   "execution_count": 8,
   "metadata": {},
   "outputs": [],
   "source": [
    "\n",
    "nlp = spacy.blank(\"di\") \n",
    "nlp = spacy.load(\"/home/dharis/Desktop/dhivehi_ner/model_output_1k\")"
   ]
  },
  {
   "cell_type": "markdown",
   "metadata": {},
   "source": [
    "# get results from model"
   ]
  },
  {
   "cell_type": "code",
   "execution_count": 9,
   "metadata": {},
   "outputs": [
    {
     "name": "stdout",
     "output_type": "stream",
     "text": [
      "ހުޅުމާލޭގައި\n",
      "މީގެ\n",
      "ހަތް\n",
      "އަހަރު\n",
      "ކުރިން\n",
      "އެސްޓީއޯ\n",
      "އިން\n",
      "ހަދަން\n",
      "ފެށި\n",
      "ފަސް\n",
      "ތަރީގެ\n",
      "ހޮޓާ\n",
      "،\n",
      "އެންމެ\n",
      "ފަހުން\n",
      "ވިއްކާލަން\n",
      "ނިންމައި\n"
     ]
    }
   ],
   "source": [
    "un_text = \"ހުޅުމާލޭގައި މީގެ ހަތް އަހަރު ކުރިން އެސްޓީއޯ އިން ހަދަން ފެށި ފަސް ތަރީގެ ހޮޓާ، އެންމެ ފަހުން ވިއްކާލަން ނިންމައި\"\n",
    "test = nlp(un_text)\n",
    "\n",
    "for token in test:\n",
    "    print(token.lemma_, )"
   ]
  },
  {
   "cell_type": "code",
   "execution_count": 10,
   "metadata": {},
   "outputs": [
    {
     "name": "stdout",
     "output_type": "stream",
     "text": [
      "ހުޅުމާލޭގައި މީގެ ހަތް އަހަރު ކުރިން އެސްޓީއޯ އިން ހަދަން ފެށި ފަސް ތަރީގެ ހޮޓާ، އެންމެ ފަހުން ވިއްކާލަން ނިންމައި\n",
      "\n",
      "Entities [('ހުޅުމާލޭގައި', 'LOC'), ('އެސްޓީއޯ', 'ORG')]\n"
     ]
    },
    {
     "data": {
      "text/html": [
       "<div class=\"entities\" style=\"line-height: 2.5\">\n",
       "<mark class=\"entity\" style=\"background: #ff9561; padding: 0.45em 0.6em; margin: 0 0.25em; line-height: 1; border-radius: 0.35em; box-decoration-break: clone; -webkit-box-decoration-break: clone\">\n",
       "    ހުޅުމާލޭގައި\n",
       "    <span style=\"font-size: 0.8em; font-weight: bold; line-height: 1; border-radius: 0.35em; text-transform: uppercase; vertical-align: middle; margin-left: 0.5rem\">LOC</span>\n",
       "</mark>\n",
       " މީގެ ހަތް އަހަރު ކުރިން \n",
       "<mark class=\"entity\" style=\"background: #7aecec; padding: 0.45em 0.6em; margin: 0 0.25em; line-height: 1; border-radius: 0.35em; box-decoration-break: clone; -webkit-box-decoration-break: clone\">\n",
       "    އެސްޓީއޯ\n",
       "    <span style=\"font-size: 0.8em; font-weight: bold; line-height: 1; border-radius: 0.35em; text-transform: uppercase; vertical-align: middle; margin-left: 0.5rem\">ORG</span>\n",
       "</mark>\n",
       " އިން ހަދަން ފެށި ފަސް ތަރީގެ ހޮޓާ، އެންމެ ފަހުން ވިއްކާލަން ނިންމައި</div>"
      ],
      "text/plain": [
       "<IPython.core.display.HTML object>"
      ]
     },
     "metadata": {},
     "output_type": "display_data"
    }
   ],
   "source": [
    "print(un_text + \"\\n\")\n",
    "print(\"Entities\", [(ent.text, ent.label_) for ent in test.ents])\n",
    "displacy.render(test, style='ent',jupyter=True)"
   ]
  }
 ],
 "metadata": {
  "kernelspec": {
   "display_name": "Python 3",
   "language": "python",
   "name": "python3"
  },
  "language_info": {
   "codemirror_mode": {
    "name": "ipython",
    "version": 3
   },
   "file_extension": ".py",
   "mimetype": "text/x-python",
   "name": "python",
   "nbconvert_exporter": "python",
   "pygments_lexer": "ipython3",
   "version": "3.6.7"
  }
 },
 "nbformat": 4,
 "nbformat_minor": 2
}
